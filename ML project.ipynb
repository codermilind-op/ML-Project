{
 "cells": [
  {
   "cell_type": "code",
   "execution_count": 24,
   "id": "25a50b73-c3ea-4fd8-afa1-2a900965f79c",
   "metadata": {},
   "outputs": [],
   "source": [
    "import numpy as np\n",
    "import pandas as pd\n",
    "from sklearn.metrics.pairwise import cosine_similarity\n",
    "import matplotlib.pyplot as plt\n",
    "from typing import List, Tuple"
   ]
  },
  {
   "cell_type": "code",
   "execution_count": 25,
   "id": "142b8cec-428a-46df-a0bb-0b69267951ee",
   "metadata": {},
   "outputs": [],
   "source": [
    "SIMILARITY_THRESHOLD = 0.9\n",
    "TREND_THRESHOLD = 0.02\n",
    "N_SIMILAR_VECTORS = 10"
   ]
  },
  {
   "cell_type": "code",
   "execution_count": 27,
   "id": "dbab5055-189b-48c9-bb0f-c0eab1733195",
   "metadata": {},
   "outputs": [],
   "source": [
    "class TradingStrategy:\n",
    "    def __init__(self, historical_vectors: np.array, historical_returns: np.array):\n",
    "        self.historical_vectors = historical_vectors\n",
    "        self.historical_returns = historical_returns\n",
    "    \n",
    "    def find_similar_vectors(self, current_vector: np.array) -> List[Tuple[int, float]]:\n",
    "        \"\"\"Find the N most similar historical vectors\"\"\"\n",
    "        similarities = cosine_similarity([current_vector], self.historical_vectors)[0]\n",
    "        top_indices = np.argsort(similarities)[-N_SIMILAR_VECTORS:]\n",
    "        return [(i, similarities[i]) for i in top_indices if similarities[i] > SIMILARITY_THRESHOLD]\n",
    "    \n",
    "    def predict_trend(self, similar_indices: List[Tuple[int, float]]) -> float:\n",
    "        \"\"\"Predict trend based on similar historical vectors\"\"\"\n",
    "        if not similar_indices:\n",
    "            return 0\n",
    "        \n",
    "        weighted_returns = sum(self.historical_returns[i] * sim for i, sim in similar_indices)\n",
    "        total_similarity = sum(sim for _, sim in similar_indices)\n",
    "        return weighted_returns / total_similarity if total_similarity > 0 else 0\n",
    "    \n",
    "    def make_trading_decision(self, predicted_trend: float) -> str:\n",
    "        \"\"\"Make a trading decision based on the predicted trend\"\"\"\n",
    "        if predicted_trend > TREND_THRESHOLD:\n",
    "            return \"BUY\"\n",
    "        elif predicted_trend < -TREND_THRESHOLD:\n",
    "            return \"SELL\"\n",
    "        else:\n",
    "            return \"HOLD\"\n",
    "    \n",
    "    def execute_strategy(self, current_vector: np.array) -> Tuple[str, float]:\n",
    "        \"\"\"Execute the trading strategy for the current vector\"\"\"\n",
    "        similar_vectors = self.find_similar_vectors(current_vector)\n",
    "        predicted_trend = self.predict_trend(similar_vectors)\n",
    "        decision = self.make_trading_decision(predicted_trend)\n",
    "        return decision, predicted_trend\n",
    "\n",
    "# Initialize the strategy\n",
    "strategy = TradingStrategy(historical_vectors, historical_returns)"
   ]
  },
  {
   "cell_type": "code",
   "execution_count": 28,
   "id": "87d6b0af-93b0-41ac-85b3-6745cbe86026",
   "metadata": {},
   "outputs": [
    {
     "name": "stdout",
     "output_type": "stream",
     "text": [
      "   period decision  predicted_trend\n",
      "0       0     HOLD                0\n",
      "1       1     HOLD                0\n",
      "2       2     HOLD                0\n",
      "3       3     HOLD                0\n",
      "4       4     HOLD                0\n"
     ]
    }
   ],
   "source": [
    "def simulate_trading(strategy: TradingStrategy, n_periods: int) -> pd.DataFrame:\n",
    "    results = []\n",
    "    for i in range(n_periods):\n",
    "        current_vector = np.random.rand(vector_size)  # Simulate new market data\n",
    "        decision, predicted_trend = strategy.execute_strategy(current_vector)\n",
    "        results.append({\n",
    "            'period': i,\n",
    "            'decision': decision,\n",
    "            'predicted_trend': predicted_trend\n",
    "        })\n",
    "    return pd.DataFrame(results)\n",
    "\n",
    "# Run simulation\n",
    "simulation_results = simulate_trading(strategy, n_periods=100)\n",
    "print(simulation_results.head())"
   ]
  },
  {
   "cell_type": "code",
   "execution_count": 29,
   "id": "c56dcd86-8b94-4c07-a038-9c4a299d9599",
   "metadata": {},
   "outputs": [
    {
     "name": "stdout",
     "output_type": "stream",
     "text": [
      "Decision counts:\n",
      "decision\n",
      "HOLD    100\n",
      "Name: count, dtype: int64\n"
     ]
    },
    {
     "data": {
      "image/png": "[encoded data removed]",
      "text/plain": [
       "<Figure size 1200x600 with 1 Axes>"
      ]
     },
     "metadata": {},
     "output_type": "display_data"
    }
   ],
   "source": [
    "decision_counts = simulation_results['decision'].value_counts()\n",
    "print(\"Decision counts:\")\n",
    "print(decision_counts)\n",
    "\n",
    "# Plot predicted trends\n",
    "plt.figure(figsize=(12, 6))\n",
    "plt.plot(simulation_results['period'], simulation_results['predicted_trend'])\n",
    "plt.title('Predicted Trends Over Time')\n",
    "plt.xlabel('Trading Period')\n",
    "plt.ylabel('Predicted Trend')\n",
    "plt.axhline(y=TREND_THRESHOLD, color='r', linestyle='--', label='Buy Threshold')\n",
    "plt.axhline(y=-TREND_THRESHOLD, color='g', linestyle='--', label='Sell Threshold')\n",
    "plt.legend()\n",
    "plt.show()"
   ]
  },
  {
   "cell_type": "code",
   "execution_count": 30,
   "id": "38faf18f-40ab-4b8a-84d7-212975f59dc4",
   "metadata": {},
   "outputs": [],
   "source": [
    "from scipy.stats import pearsonr\n",
    "from sklearn.preprocessing import StandardScaler\n",
    "from scipy.optimize import minimize"
   ]
  },
  {
   "cell_type": "code",
   "execution_count": 31,
   "id": "375923fc-2359-4555-a8e0-8f2df9209819",
   "metadata": {},
   "outputs": [],
   "source": [
    "def load_real_data(file_path: str) -> Tuple[np.array, np.array]:\n",
    "    # Load data from CSV file\n",
    "    df = pd.read_csv(file_path)\n",
    "    \n",
    "    # Assume the CSV has columns for each feature in the vector representation\n",
    "    # and a 'returns' column for the corresponding returns\n",
    "    vector_columns = [col for col in df.columns if col.startswith('feature_')]\n",
    "    \n",
    "    vectors = df[vector_columns].values\n",
    "    returns = df['returns'].values\n",
    "    \n",
    "    return vectors, returns\n",
    "# historical_vectors, historical_returns = load_real_data('path_to_your_data.csv')"
   ]
  },
  {
   "cell_type": "code",
   "execution_count": 32,
   "id": "eb0f1db3-a3c4-4510-858d-577709e4fd96",
   "metadata": {},
   "outputs": [],
   "source": [
    "def advanced_similarity(vector1: np.array, vector2: np.array) -> float:\n",
    "    cosine_sim = cosine_similarity([vector1], [vector2])[0][0]\n",
    "    pearson_corr, _ = pearsonr(vector1, vector2)\n",
    "    return (cosine_sim + pearson_corr) / 2\n",
    "\n",
    "class EnhancedTradingStrategy(TradingStrategy):\n",
    "    def find_similar_vectors(self, current_vector: np.array) -> List[Tuple[int, float]]:\n",
    "        similarities = [advanced_similarity(current_vector, hist_vector) \n",
    "                        for hist_vector in self.historical_vectors]\n",
    "        top_indices = np.argsort(similarities)[-N_SIMILAR_VECTORS:]\n",
    "        return [(i, similarities[i]) for i in top_indices if similarities[i] > SIMILARITY_THRESHOLD]"
   ]
  },
  {
   "cell_type": "code",
   "execution_count": 34,
   "id": "e5a12374-7ce6-4b98-bc53-e2489fae48ba",
   "metadata": {},
   "outputs": [],
   "source": [
    "def kelly_criterion(win_rate: float, win_loss_ratio: float) -> float:\n",
    "    return win_rate - ((1 - win_rate) / win_loss_ratio)\n",
    "\n",
    "class RiskManagedStrategy(EnhancedTradingStrategy):\n",
    "    def __init__(self, historical_vectors: np.array, historical_returns: np.array):\n",
    "        super().__init__(historical_vectors, historical_returns)\n",
    "        self.win_rate = 0.5  # Initial estimate, update this based on backtesting results\n",
    "        self.win_loss_ratio = 1.5  # Initial estimate, update this based on backtesting results\n",
    "    \n",
    "    def execute_strategy(self, current_vector: np.array) -> Tuple[str, float, float]:\n",
    "        decision, predicted_trend = super().execute_strategy(current_vector)\n",
    "        kelly_fraction = kelly_criterion(self.win_rate, self.win_loss_ratio)\n",
    "        position_size = max(0, min(kelly_fraction, 1))  # Ensure position size is between 0 and 1\n",
    "        return decision, predicted_trend, position_size\n",
    "\n",
    "# Usage:\n",
    "# risk_managed_strategy = RiskManagedStrategy(historical_vectors, historical_returns)"
   ]
  },
  {
   "cell_type": "code",
   "execution_count": 36,
   "id": "a651a6a9-f0d0-4267-b8cc-c850d3c0bc07",
   "metadata": {},
   "outputs": [],
   "source": [
    "import yfinance as yf\n",
    "from statsmodels.tsa.stattools import adfuller\n",
    "from arch import arch_model"
   ]
  },
  {
   "cell_type": "code",
   "execution_count": 37,
   "id": "0c28aa8e-8249-4adb-9ba9-2350d3c0fd8d",
   "metadata": {},
   "outputs": [],
   "source": [
    "def fetch_real_data(ticker: str, start_date: str, end_date: str) -> pd.DataFrame:\n",
    "    data = yf.download(ticker, start=start_date, end=end_date, interval='15m')\n",
    "    data['Returns'] = data['Close'].pct_change()\n",
    "    return data\n",
    "\n",
    "def create_vector_representation(data: pd.DataFrame, window: int = 20) -> Tuple[np.array, np.array]:\n",
    "    features = [\n",
    "        data['Returns'].rolling(window=window).mean(),\n",
    "        data['Returns'].rolling(window=window).std(),\n",
    "        data['Volume'].rolling(window=window).mean(),\n",
    "        data['High'].div(data['Low']).rolling(window=window).mean(),\n",
    "        (data['Close'] - data['Open']).div(data['Open']).rolling(window=window).mean()\n",
    "    ]\n",
    "    \n",
    "    vectors = np.column_stack(features)\n",
    "    vectors = vectors[window-1:]  # Remove NaN rows\n",
    "    returns = data['Returns'].iloc[window:].values\n",
    "    \n",
    "    return vectors, returns\n",
    "\n",
    "# Usage:\n",
    "# data = fetch_real_data('AAPL', '2023-01-01', '2023-12-31')\n",
    "# vectors, returns = create_vector_representation(data)\n",
    "# strategy = RiskManagedStrategy(vectors[:-100], returns[:-100])  # Use last 100 periods for testing\n",
    "# test_results = backtest_with_costs(strategy, vectors[-100:], returns[-100:])\n"
   ]
  },
  {
   "cell_type": "code",
   "execution_count": 38,
   "id": "3e86acba-ad5b-445a-8f37-983560290750",
   "metadata": {},
   "outputs": [],
   "source": [
    "from itertools import product\n",
    "\n",
    "def optimize_parameters(vectors: np.array, returns: np.array, \n",
    "                        param_grid: dict) -> Tuple[dict, float]:\n",
    "    best_params = {}\n",
    "    best_sharpe = -np.inf\n",
    "    \n",
    "    param_combinations = product(*param_grid.values())\n",
    "    \n",
    "    for params in param_combinations:\n",
    "        param_dict = dict(zip(param_grid.keys(), params))\n",
    "        \n",
    "        strategy = RiskManagedStrategy(vectors[:-100], returns[:-100])\n",
    "        strategy.SIMILARITY_THRESHOLD = param_dict['similarity_threshold']\n",
    "        strategy.TREND_THRESHOLD = param_dict['trend_threshold']\n",
    "        strategy.N_SIMILAR_VECTORS = param_dict['n_similar_vectors']\n",
    "        \n",
    "        results = backtest_with_costs(strategy, vectors[-100:], returns[-100:])\n",
    "        sharpe_ratio = calculate_sharpe_ratio(results['portfolio_value'])\n",
    "        \n",
    "        if sharpe_ratio > best_sharpe:\n",
    "            best_sharpe = sharpe_ratio\n",
    "            best_params = param_dict\n",
    "    \n",
    "    return best_params, best_sharpe\n",
    "\n",
    "def calculate_sharpe_ratio(portfolio_values: np.array, risk_free_rate: float = 0.02) -> float:\n",
    "    returns = np.diff(portfolio_values) / portfolio_values[:-1]\n",
    "    excess_returns = returns - risk_free_rate / 252  # Assuming daily returns\n",
    "    return np.sqrt(252) * excess_returns.mean() / excess_returns.std()\n",
    "\n",
    "# Usage:\n",
    "# param_grid = {\n",
    "# Calculate similarity with historical vectors\n",
    "#     'trend_threshold': [0.01, 0.02, 0.03, 0.04],\n",
    "#     'n_similar_vectors': [5, 10, 15, 20]\n",
    "# }\n",
    "# best_params, best_sharpe = optimize_parameters(vectors, returns, param_grid)\n",
    "# print(f\"Best parameters: {best_params}\")\n",
    "# print(f\"Best Sharpe ratio: {best_sharpe}\")"
   ]
  },
  {
   "cell_type": "code",
   "execution_count": 39,
   "id": "12de4481-2b9f-41be-a3df-45426ae55862",
   "metadata": {},
   "outputs": [],
   "source": [
    "class AdvancedRiskManagedStrategy(RiskManagedStrategy):\n",
    "    def __init__(self, historical_vectors: np.array, historical_returns: np.array,\n",
    "                 stop_loss: float = 0.02, take_profit: float = 0.05):\n",
    "        super().__init__(historical_vectors, historical_returns)\n",
    "        self.stop_loss = stop_loss\n",
    "        self.take_profit = take_profit\n",
    "        self.entry_price = None\n",
    "    \n",
    "    def execute_strategy(self, current_vector: np.array, current_price: float) -> Tuple[str, float, float]:\n",
    "        decision, predicted_trend, position_size = super().execute_strategy(current_vector)\n",
    "        \n",
    "        if self.entry_price is None:\n",
    "            self.entry_price = current_price\n",
    "        \n",
    "        # Check for stop-loss or take-profit\n",
    "        if self.entry_price is not None:\n",
    "            price_change = (current_price - self.entry_price) / self.entry_price\n",
    "            if abs(price_change) >= self.stop_loss or price_change >= self.take_profit:\n",
    "                decision = \"SELL\" if price_change > 0 else \"BUY\"  # Close the position\n",
    "                self.entry_price = None\n",
    "        \n",
    "        return decision, predicted_trend, position_size\n",
    "\n",
    "# Usage in backtesting:\n",
    "# def backtest_with_advanced_risk(strategy: AdvancedRiskManagedStrategy, test_vectors: np.array, \n",
    "#                                 test_returns: np.array, test_prices: np.array) -> pd.DataFrame:\n",
    "#     # Similar to previous backtest function, but pass current_price to execute_strategy\n",
    "#     # and handle the stop-loss and take-profit logic"
   ]
  },
  {
   "cell_type": "code",
   "execution_count": null,
   "id": "f2abdb54-2adc-45f8-a15b-a6b46e60bd54",
   "metadata": {},
   "outputs": [],
   "source": []
  }
 ],
 "metadata": {
  "kernelspec": {
   "display_name": "Python 3 (ipykernel)",
   "language": "python",
   "name": "python3"
  },
  "language_info": {
   "codemirror_mode": {
    "name": "ipython",
    "version": 3
   },
   "file_extension": ".py",
   "mimetype": "text/x-python",
   "name": "python",
   "nbconvert_exporter": "python",
   "pygments_lexer": "ipython3",
   "version": "3.12.0"
  }
 },
 "nbformat": 4,
 "nbformat_minor": 5
}
